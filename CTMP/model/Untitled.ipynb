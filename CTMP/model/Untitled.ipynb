{
 "cells": [
  {
   "cell_type": "code",
   "execution_count": 31,
   "metadata": {},
   "outputs": [],
   "source": [
    "import matplotlib.pyplot as plt\n",
    "import numpy as np\n",
    "from scipy import special\n",
    "import pickle"
   ]
  },
  {
   "cell_type": "code",
   "execution_count": 67,
   "metadata": {},
   "outputs": [],
   "source": [
    "with open(\"../saved-outputs/phi.pkl\", \"rb\") as f:\n",
    "        phi = pickle.load(f)\n",
    "\n",
    "with open(\"../saved-outputs/rating_GroupForUser.pkl\", \"rb\") as f:\n",
    "        rating_GroupForUser = pickle.load(f)\n",
    "        \n",
    "with open(\"../saved-outputs/rating_GroupForMovie.pkl\", \"rb\") as f:\n",
    "        rating_GroupForMovie = pickle.load(f)\n",
    "        \n",
    "mu = np.load(\"../saved-outputs/mu.npy\")\n",
    "shp = np.load(\"../saved-outputs/shp.npy\")\n",
    "rte = np.load(\"../saved-outputs/rte.npy\")"
   ]
  },
  {
   "cell_type": "code",
   "execution_count": 152,
   "metadata": {},
   "outputs": [],
   "source": [
    "for i in range(25900):\n",
    "    if sum(phi[1][3][i]) != 0:\n",
    "        print(i, sum(phi[1][3][i]))"
   ]
  },
  {
   "cell_type": "code",
   "execution_count": 153,
   "metadata": {},
   "outputs": [],
   "source": [
    "for i in range(1000,2000):\n",
    "    print(sum(mu[i]))"
   ]
  },
  {
   "cell_type": "markdown",
   "metadata": {},
   "source": [
    "### Generate Test Set"
   ]
  },
  {
   "cell_type": "code",
   "execution_count": 82,
   "metadata": {},
   "outputs": [
    {
     "name": "stdout",
     "output_type": "stream",
     "text": [
      "20000\n"
     ]
    }
   ],
   "source": [
    "generator = np.random.RandomState(11)\n",
    "permutation = generator.permutation(len(rating_GroupForUser))\n",
    "test_size = 20000\n",
    "c = 0\n",
    "test_user_ids = []\n",
    "for i in permutation:\n",
    "    if len(rating_GroupForUser[i])>0:\n",
    "        test_user_ids.append(i)\n",
    "        c += 1\n",
    "    if c == test_size:\n",
    "        break\n",
    "print(len(test_user_ids))"
   ]
  },
  {
   "cell_type": "markdown",
   "metadata": {},
   "source": [
    "### Compute Average Recalls and Precisions for Top-M"
   ]
  },
  {
   "cell_type": "code",
   "execution_count": 84,
   "metadata": {
    "scrolled": true
   },
   "outputs": [
    {
     "name": "stdout",
     "output_type": "stream",
     "text": [
      "iteration: 1\n",
      "iteration: 2\n",
      "iteration: 3\n",
      "iteration: 4\n",
      "iteration: 5\n",
      "iteration: 6\n",
      "iteration: 7\n",
      "iteration: 8\n",
      "iteration: 9\n",
      "iteration: 10\n",
      "iteration: 11\n",
      "iteration: 12\n",
      "iteration: 13\n",
      "iteration: 14\n",
      "iteration: 15\n",
      "iteration: 16\n",
      "iteration: 17\n",
      "iteration: 18\n",
      "iteration: 19\n",
      "iteration: 20\n",
      "iteration: 21\n"
     ]
    },
    {
     "ename": "KeyboardInterrupt",
     "evalue": "",
     "output_type": "error",
     "traceback": [
      "\u001b[0;31m---------------------------------------------------------------------------\u001b[0m",
      "\u001b[0;31mKeyboardInterrupt\u001b[0m                         Traceback (most recent call last)",
      "\u001b[0;32m<ipython-input-84-8b99c886ac5a>\u001b[0m in \u001b[0;36m<module>\u001b[0;34m\u001b[0m\n\u001b[1;32m     51\u001b[0m \u001b[0;34m\u001b[0m\u001b[0m\n\u001b[1;32m     52\u001b[0m \u001b[0;34m\u001b[0m\u001b[0m\n\u001b[0;32m---> 53\u001b[0;31m \u001b[0mavg_r\u001b[0m \u001b[0;34m=\u001b[0m \u001b[0maverage_recalls\u001b[0m\u001b[0;34m(\u001b[0m\u001b[0;36m1\u001b[0m\u001b[0;34m,\u001b[0m\u001b[0;36m100\u001b[0m\u001b[0;34m)\u001b[0m\u001b[0;34m\u001b[0m\u001b[0;34m\u001b[0m\u001b[0m\n\u001b[0m\u001b[1;32m     54\u001b[0m \u001b[0;31m#avg_p = average_precisions(90,100)\u001b[0m\u001b[0;34m\u001b[0m\u001b[0;34m\u001b[0m\u001b[0;34m\u001b[0m\u001b[0m\n\u001b[1;32m     55\u001b[0m \u001b[0mprint\u001b[0m\u001b[0;34m(\u001b[0m\u001b[0mavg_p\u001b[0m\u001b[0;34m)\u001b[0m\u001b[0;34m\u001b[0m\u001b[0;34m\u001b[0m\u001b[0m\n",
      "\u001b[0;32m<ipython-input-84-8b99c886ac5a>\u001b[0m in \u001b[0;36maverage_recalls\u001b[0;34m(top_start, top_end)\u001b[0m\n\u001b[1;32m     22\u001b[0m         \u001b[0mrecall_sum\u001b[0m \u001b[0;34m=\u001b[0m \u001b[0;36m0\u001b[0m\u001b[0;34m\u001b[0m\u001b[0;34m\u001b[0m\u001b[0m\n\u001b[1;32m     23\u001b[0m         \u001b[0;32mfor\u001b[0m \u001b[0musr\u001b[0m \u001b[0;32min\u001b[0m \u001b[0mtest_user_ids\u001b[0m\u001b[0;34m:\u001b[0m\u001b[0;34m\u001b[0m\u001b[0;34m\u001b[0m\u001b[0m\n\u001b[0;32m---> 24\u001b[0;31m             \u001b[0mrecall_sum\u001b[0m \u001b[0;34m+=\u001b[0m \u001b[0mrecall_per_user\u001b[0m\u001b[0;34m(\u001b[0m\u001b[0musr\u001b[0m\u001b[0;34m,\u001b[0m \u001b[0mtop\u001b[0m\u001b[0;34m,\u001b[0m \u001b[0min_matrix\u001b[0m\u001b[0;34m=\u001b[0m\u001b[0;32mFalse\u001b[0m\u001b[0;34m)\u001b[0m\u001b[0;34m\u001b[0m\u001b[0;34m\u001b[0m\u001b[0m\n\u001b[0m\u001b[1;32m     25\u001b[0m         \u001b[0mavg_recall\u001b[0m \u001b[0;34m=\u001b[0m \u001b[0mrecall_sum\u001b[0m\u001b[0;34m/\u001b[0m\u001b[0mtest_size\u001b[0m\u001b[0;34m\u001b[0m\u001b[0;34m\u001b[0m\u001b[0m\n\u001b[1;32m     26\u001b[0m         \u001b[0mr\u001b[0m\u001b[0;34m.\u001b[0m\u001b[0mappend\u001b[0m\u001b[0;34m(\u001b[0m\u001b[0mavg_recall\u001b[0m\u001b[0;34m)\u001b[0m\u001b[0;34m\u001b[0m\u001b[0;34m\u001b[0m\u001b[0m\n",
      "\u001b[0;32m<ipython-input-84-8b99c886ac5a>\u001b[0m in \u001b[0;36mrecall_per_user\u001b[0;34m(user_id, TOP_M, in_matrix)\u001b[0m\n\u001b[1;32m      9\u001b[0m     \u001b[0;32melse\u001b[0m\u001b[0;34m:\u001b[0m\u001b[0;34m\u001b[0m\u001b[0;34m\u001b[0m\u001b[0m\n\u001b[1;32m     10\u001b[0m         \u001b[0m_mu\u001b[0m \u001b[0;34m=\u001b[0m \u001b[0mmu\u001b[0m\u001b[0;34m\u001b[0m\u001b[0;34m\u001b[0m\u001b[0m\n\u001b[0;32m---> 11\u001b[0;31m     \u001b[0mratings\u001b[0m \u001b[0;34m=\u001b[0m \u001b[0mnp\u001b[0m\u001b[0;34m.\u001b[0m\u001b[0mdot\u001b[0m\u001b[0;34m(\u001b[0m\u001b[0;34m(\u001b[0m\u001b[0mshp\u001b[0m\u001b[0;34m[\u001b[0m\u001b[0muser_id\u001b[0m\u001b[0;34m]\u001b[0m\u001b[0;34m/\u001b[0m\u001b[0mrte\u001b[0m\u001b[0;34m[\u001b[0m\u001b[0muser_id\u001b[0m\u001b[0;34m]\u001b[0m\u001b[0;34m)\u001b[0m\u001b[0;34m,\u001b[0m \u001b[0m_mu\u001b[0m\u001b[0;34m.\u001b[0m\u001b[0mT\u001b[0m\u001b[0;34m)\u001b[0m\u001b[0;34m\u001b[0m\u001b[0;34m\u001b[0m\u001b[0m\n\u001b[0m\u001b[1;32m     12\u001b[0m     \u001b[0mpredicted_top_M\u001b[0m \u001b[0;34m=\u001b[0m \u001b[0mnp\u001b[0m\u001b[0;34m.\u001b[0m\u001b[0margsort\u001b[0m\u001b[0;34m(\u001b[0m\u001b[0;34m-\u001b[0m\u001b[0mratings\u001b[0m\u001b[0;34m)\u001b[0m\u001b[0;34m[\u001b[0m\u001b[0;34m:\u001b[0m\u001b[0mTOP_M\u001b[0m\u001b[0;34m]\u001b[0m\u001b[0;34m\u001b[0m\u001b[0;34m\u001b[0m\u001b[0m\n\u001b[1;32m     13\u001b[0m     \u001b[0mactual\u001b[0m \u001b[0;34m=\u001b[0m \u001b[0mrating_GroupForUser\u001b[0m\u001b[0;34m[\u001b[0m\u001b[0muser_id\u001b[0m\u001b[0;34m]\u001b[0m\u001b[0;34m\u001b[0m\u001b[0;34m\u001b[0m\u001b[0m\n",
      "\u001b[0;32m<__array_function__ internals>\u001b[0m in \u001b[0;36mdot\u001b[0;34m(*args, **kwargs)\u001b[0m\n",
      "\u001b[0;31mKeyboardInterrupt\u001b[0m: "
     ]
    }
   ],
   "source": [
    "noncold_items = []\n",
    "for movie_id in range(len(rating_GroupForMovie)):\n",
    "     if len(rating_GroupForMovie[movie_id]) != 0:\n",
    "            noncold_items.append(movie_id)\n",
    "\n",
    "def recall_per_user(user_id, TOP_M, in_matrix):\n",
    "    if in_matrix:\n",
    "        _mu = mu[noncold_items,:]\n",
    "    else:\n",
    "        _mu = mu\n",
    "    ratings = np.dot((shp[user_id]/rte[user_id]), _mu.T)\n",
    "    predicted_top_M = np.argsort(-ratings)[:TOP_M]\n",
    "    actual = rating_GroupForUser[user_id]\n",
    "    recall = np.sum(np.in1d(predicted_top_M, actual)*1)/len(rating_GroupForUser[user_id])\n",
    "    return recall\n",
    "\n",
    "\n",
    "def average_recalls(top_start, top_end):\n",
    "    r = []\n",
    "    for top in range(top_start, top_end):\n",
    "        print(\"iteration:\",top)\n",
    "        recall_sum = 0\n",
    "        for usr in test_user_ids:\n",
    "            recall_sum += recall_per_user(usr, top, in_matrix=False)\n",
    "        avg_recall = recall_sum/test_size\n",
    "        r.append(avg_recall)\n",
    "    return r\n",
    "\n",
    "def precision_per_user(user_id, TOP_M, in_matrix):\n",
    "    if in_matrix:\n",
    "        _mu = mu[noncold_items,:]\n",
    "    else:\n",
    "        _mu = mu\n",
    "    ratings = np.dot((shp[user_id]/rte[user_id]), _mu.T)\n",
    "    predicted_top_M = np.argsort(-ratings)[:TOP_M]\n",
    "    actual = rating_GroupForUser[user_id]\n",
    "    precision = np.sum(np.in1d(predicted_top_M, actual)*1)/TOP_M\n",
    "    return precision\n",
    "\n",
    "def average_precisions(top_start, top_end):\n",
    "    p = []\n",
    "    for top in range(top_start, top_end):\n",
    "        print(\"iteration:\",top)\n",
    "        precision_sum = 0\n",
    "        for usr in test_user_ids:\n",
    "            precision_sum += precision_per_user(usr, top, in_matrix=False)\n",
    "        avg_precision = precision_sum/test_size\n",
    "        p.append(avg_precision)\n",
    "    return p\n",
    "\n",
    "\n",
    "\n",
    "#avg_r = average_recalls(1,100)\n",
    "avg_p = average_precisions(1,100)\n",
    "print(avg_p)\n",
    "\n",
    "\"\"\"PLOT THE GRAPH\"\"\"\n",
    "fig, ax = plt.subplots()\n",
    "ax.plot(range(1, 100), avg_r, label=\"CTMP recall\") #, label='std10')\n",
    "ax.set_xlabel('Top-M')\n",
    "ax.set_ylabel('Recall')\n",
    "ax.set_title(\"Set size {test_size}\")\n",
    "ax.legend()\n",
    "plt.grid()\n",
    "plt.show()\n"
   ]
  },
  {
   "cell_type": "code",
   "execution_count": null,
   "metadata": {},
   "outputs": [],
   "source": []
  }
 ],
 "metadata": {
  "kernelspec": {
   "display_name": "Python 3",
   "language": "python",
   "name": "python3"
  },
  "language_info": {
   "codemirror_mode": {
    "name": "ipython",
    "version": 3
   },
   "file_extension": ".py",
   "mimetype": "text/x-python",
   "name": "python",
   "nbconvert_exporter": "python",
   "pygments_lexer": "ipython3",
   "version": "3.7.4"
  }
 },
 "nbformat": 4,
 "nbformat_minor": 2
}
