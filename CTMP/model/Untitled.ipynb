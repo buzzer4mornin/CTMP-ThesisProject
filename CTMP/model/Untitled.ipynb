{
 "cells": [
  {
   "cell_type": "code",
   "execution_count": 31,
   "metadata": {},
   "outputs": [],
   "source": [
    "import matplotlib.pyplot as plt\n",
    "import numpy as np\n",
    "from scipy import special\n",
    "import pickle"
   ]
  },
  {
   "cell_type": "code",
   "execution_count": 67,
   "metadata": {},
   "outputs": [],
   "source": [
    "with open(\"../saved-outputs/phi.pkl\", \"rb\") as f:\n",
    "        phi = pickle.load(f)\n",
    "\n",
    "with open(\"../saved-outputs/rating_GroupForUser.pkl\", \"rb\") as f:\n",
    "        rating_GroupForUser = pickle.load(f)\n",
    "        \n",
    "with open(\"../saved-outputs/rating_GroupForMovie.pkl\", \"rb\") as f:\n",
    "        rating_GroupForMovie = pickle.load(f)\n",
    "        \n",
    "mu = np.load(\"../saved-outputs/mu.npy\")\n",
    "shp = np.load(\"../saved-outputs/shp.npy\")\n",
    "rte = np.load(\"../saved-outputs/rte.npy\")"
   ]
  },
  {
   "cell_type": "code",
   "execution_count": 152,
   "metadata": {},
   "outputs": [],
   "source": [
    "for i in range(25900):\n",
    "    if sum(phi[1][3][i]) != 0:\n",
    "        print(i, sum(phi[1][3][i]))"
   ]
  },
  {
   "cell_type": "code",
   "execution_count": 153,
   "metadata": {},
   "outputs": [],
   "source": [
    "for i in range(1000,2000):\n",
    "    print(sum(mu[i]))"
   ]
  },
  {
   "cell_type": "markdown",
   "metadata": {},
   "source": [
    "### Generate Test Set"
   ]
  },
  {
   "cell_type": "code",
   "execution_count": 74,
   "metadata": {},
   "outputs": [
    {
     "name": "stdout",
     "output_type": "stream",
     "text": [
      "2000\n"
     ]
    }
   ],
   "source": [
    "generator = np.random.RandomState(20)\n",
    "permutation = generator.permutation(len(rating_GroupForUser))\n",
    "test_size = 2000\n",
    "c = 0\n",
    "test_user_ids = []\n",
    "for i in permutation:\n",
    "    if len(rating_GroupForUser[i])>0:\n",
    "        test_user_ids.append(i)\n",
    "        c += 1\n",
    "    if c == test_size:\n",
    "        break\n",
    "print(len(test_user_ids))"
   ]
  },
  {
   "cell_type": "markdown",
   "metadata": {},
   "source": [
    "### Compute Average Recalls and Precisions for Top-M"
   ]
  },
  {
   "cell_type": "code",
   "execution_count": 79,
   "metadata": {
    "scrolled": true
   },
   "outputs": [
    {
     "name": "stdout",
     "output_type": "stream",
     "text": [
      "iteration: 90\n",
      "iteration: 91\n",
      "iteration: 92\n",
      "iteration: 93\n",
      "iteration: 94\n",
      "iteration: 95\n",
      "iteration: 96\n",
      "iteration: 97\n",
      "iteration: 98\n",
      "iteration: 99\n",
      "[0.0008146525096525104, 0.00081988416988417, 0.0008248841698841697, 0.0008299613899613899, 0.0008349613899613901, 0.0008397683397683395, 0.0008446138996139001, 0.0008498069498069507, 0.0008550386100386108, 0.0008601737451737457]\n"
     ]
    },
    {
     "data": {
      "image/png": "[encoded data removed]",
      "text/plain": [
       "<Figure size 432x288 with 1 Axes>"
      ]
     },
     "metadata": {
      "needs_background": "light"
     },
     "output_type": "display_data"
    }
   ],
   "source": [
    "noncold_items = []\n",
    "for movie_id in range(len(rating_GroupForMovie)):\n",
    "     if len(rating_GroupForMovie[movie_id]) != 0:\n",
    "            noncold_items.append(movie_id)\n",
    "\n",
    "def recall_per_user(user_id, TOP_M, in_matrix):\n",
    "    if in_matrix:\n",
    "        _mu = mu[noncold_items,:]\n",
    "    else:\n",
    "        _mu = mu\n",
    "    ratings = np.dot((shp[user_id]/rte[user_id]), _mu.T)\n",
    "    predicted_top_M = np.argsort(-ratings)[:TOP_M]\n",
    "    actual = rating_GroupForUser[user_id]\n",
    "    recall = np.sum(np.in1d(predicted_top_M, actual)*1)/len(rating_GroupForUser[user_id])\n",
    "    return recall\n",
    "\n",
    "\n",
    "def average_recalls(top_start, top_end):\n",
    "    r = []\n",
    "    for top in range(top_start, top_end):\n",
    "        print(\"iteration:\",top)\n",
    "        recall_sum = 0\n",
    "        for usr in test_user_ids:\n",
    "            recall_sum += recall_per_user(usr, top, in_matrix=False)\n",
    "        avg_recall = recall_sum/test_size\n",
    "        r.append(avg_recall)\n",
    "    return r\n",
    "\n",
    "def precision_per_user(user_id, TOP_M, in_matrix):\n",
    "    if in_matrix:\n",
    "        _mu = mu[noncold_items,:]\n",
    "    else:\n",
    "        _mu = mu\n",
    "    ratings = np.dot((shp[user_id]/rte[user_id]), _mu.T)\n",
    "    predicted_top_M = np.argsort(-ratings)[:TOP_M]\n",
    "    actual = rating_GroupForUser[user_id]\n",
    "    precision = np.sum(np.in1d(predicted_top_M, actual)*1)/25900\n",
    "    return precision\n",
    "\n",
    "def average_precisions(top_start, top_end):\n",
    "    p = []\n",
    "    for top in range(top_start, top_end):\n",
    "        print(\"iteration:\",top)\n",
    "        precision_sum = 0\n",
    "        for usr in test_user_ids:\n",
    "            precision_sum += precision_per_user(usr, top, in_matrix=False)\n",
    "        avg_precision = precision_sum/test_size\n",
    "        p.append(avg_precision)\n",
    "    return p\n",
    "\n",
    "\n",
    "\n",
    "#avg_r = average_recalls(1,100)\n",
    "avg_p = average_precisions(90,100)\n",
    "print(avg_p)\n",
    "\n",
    "\"\"\"PLOT THE GRAPH\"\"\"\n",
    "fig, ax = plt.subplots()\n",
    "ax.plot(range(90, 100), avg_p, label=\"CTMP recall\") #, label='std10')\n",
    "ax.set_xlabel('Top-M')\n",
    "ax.set_ylabel('Recall')\n",
    "ax.set_title(\"Set size {test_size}\")\n",
    "ax.legend()\n",
    "plt.grid()\n",
    "plt.show()\n"
   ]
  },
  {
   "cell_type": "code",
   "execution_count": null,
   "metadata": {},
   "outputs": [],
   "source": []
  }
 ],
 "metadata": {
  "kernelspec": {
   "display_name": "Python 3",
   "language": "python",
   "name": "python3"
  },
  "language_info": {
   "codemirror_mode": {
    "name": "ipython",
    "version": 3
   },
   "file_extension": ".py",
   "mimetype": "text/x-python",
   "name": "python",
   "nbconvert_exporter": "python",
   "pygments_lexer": "ipython3",
   "version": "3.7.4"
  }
 },
 "nbformat": 4,
 "nbformat_minor": 2
}
