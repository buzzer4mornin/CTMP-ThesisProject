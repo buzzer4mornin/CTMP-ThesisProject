{
 "cells": [
  {
   "cell_type": "code",
   "execution_count": 2,
   "metadata": {
    "collapsed": true
   },
   "outputs": [
    {
     "name": "stdout",
     "output_type": "stream",
     "text": [
      "Requirement already satisfied: cx_Oracle in /Users/ahmadli/PycharmProjects/deploymachinelearning/venv/lib/python3.7/site-packages (8.1.0)\n",
      "\u001b[33mWARNING: You are using pip version 20.0.2; however, version 20.3.3 is available.\n",
      "You should consider upgrading via the '/Users/ahmadli/PycharmProjects/deploymachinelearning/venv/bin/python -m pip install --upgrade pip' command.\u001b[0m\n"
     ]
    }
   ],
   "source": [
    "import sys\n",
    "!{sys.executable} -m pip install cx_Oracle \n",
    "import cx_Oracle as cx\n",
    "import pandas as pd"
   ]
  },
  {
   "cell_type": "markdown",
   "metadata": {},
   "source": [
    "### Function for getting credentials for DB connection"
   ]
  },
  {
   "cell_type": "code",
   "execution_count": 3,
   "metadata": {},
   "outputs": [],
   "source": [
    "def get_credentials() -> list:\n",
    "    c = []\n",
    "    with open('credentials.txt') as f:\n",
    "        for line in f.readlines():\n",
    "            try:\n",
    "                # fetching username and password\n",
    "                _, value = line.split(\": \")\n",
    "            except:\n",
    "                # raises error \n",
    "                print('Add your username and password in credentials file')\n",
    "                exit(0)\n",
    "            c.append(value.rstrip(\" \\n\"))\n",
    "    return c"
   ]
  },
  {
   "cell_type": "markdown",
   "metadata": {},
   "source": [
    "### Connect to DB and fetch DataFrame"
   ]
  },
  {
   "cell_type": "code",
   "execution_count": 12,
   "metadata": {},
   "outputs": [
    {
     "name": "stdout",
     "output_type": "stream",
     "text": [
      "(DESCRIPTION=(ADDRESS=(PROTOCOL=TCP)(HOST=tirpitz.ms.mff.cuni.cz)(PORT=1511))(CONNECT_DATA=(SID=jedenact)))\n",
      "Table Created successful\n"
     ]
    }
   ],
   "source": [
    "\"-*- Disconnect from VPN -*-\"\n",
    "dsnStr = cx.makedsn(\"tirpitz.ms.mff.cuni.cz\", 1511, \"jedenact\")\n",
    "print(dsnStr)\n",
    "db_credentials = get_credentials()\n",
    "\n",
    "try: \n",
    "    # Connect to DB\n",
    "    db = cx.connect(*db_credentials, dsn=dsnStr)\n",
    "    cur = db.cursor() \n",
    "    \n",
    "    # Execute Query\n",
    "    cur.execute(\"select ACTORS from IMDB WHERE ROWNUM <= 50\")\n",
    "    db.commit()\n",
    "    df = pd.DataFrame(cur.fetchall())\n",
    "    df.columns = [\"Actors\"]\n",
    "    \n",
    "    # Another way to Query\n",
    "    #for row in cur.execute(\"select ACTORS from IMDB\"):\n",
    "    #    print(row)\n",
    "\n",
    "    print(\"Table Created successful\") \n",
    "\n",
    "except cx.DatabaseError as e: \n",
    "    print(\"ERROR\", e) \n",
    "\n",
    "finally: \n",
    "    if cur: cur.close() \n",
    "    if db: db.close() "
   ]
  },
  {
   "cell_type": "code",
   "execution_count": 16,
   "metadata": {},
   "outputs": [
    {
     "data": {
      "text/plain": [
       "[None,\n",
       " None,\n",
       " 'Joseph Stacey, Gabi Herrett, John Grey',\n",
       " 'Chris Stuckmann, Fae Rie, Sam Liz, Trevor Lawrence',\n",
       " 'Madison Marie Steinacker',\n",
       " None,\n",
       " None,\n",
       " None,\n",
       " None,\n",
       " None,\n",
       " 'Laura Baena, Joaquín Cortés Torres, Javier de la Torre, Eduardo Duro',\n",
       " None,\n",
       " None,\n",
       " None,\n",
       " None,\n",
       " 'Léa Drucker, Anne Benoît, Miljan Chatelain, Mathilde Auneveux',\n",
       " 'Brian Krause, Anne McDaniels, Steven Helmkamp, Candice Nunes',\n",
       " 'Upasana Beharee, Kenneth Mark Bhan, Kaden Ecklund, Madison Gamboa',\n",
       " 'Kees Boot',\n",
       " 'Tom Hardy, Olivia Colman, Ruth Wilson, Andrew Scott',\n",
       " 'Carolina Amaral, Keith Davis, Leonor Keil, Ângela Marques',\n",
       " 'Callum Dixon, Nicholas Khan, Danielle Lydon, Nick Moran',\n",
       " 'Jason Lockhart, Mindy Robinson, Ami Shimada',\n",
       " 'Zack Carlson, Bryan Connolly, Drew Daniels, Samuel Davis',\n",
       " 'Naseeruddin Shah, Randeep Hooda, Taran Bajaj, Harsh Chhaya',\n",
       " None,\n",
       " 'Teemu Selänne, Don Baizley, Bruce Boudreau, Brian Burke',\n",
       " 'Jacky Bhagnani, Priya Anand, Raajpal Yadav, Amitosh Nagpal',\n",
       " 'Pierre Niney, Guillaume Gallienne, Charlotte Le Bon, Laura Smet',\n",
       " 'Kang-woo Kim, Bum Kim, Esom, Jun-ho Kim',\n",
       " 'Hiam Abbass, Ghazi Albuliwi, Omer Barnea, Thom Bishops',\n",
       " 'Herjunot Ali, Fedi Nuril, Pevita Eileen Pearce, Saykoji',\n",
       " 'Ryland Bell, Lucas Debari, Josh Dirksen, Terje H?konsen',\n",
       " 'Gentlehart Acres, Russell Durham Comegys, Josh Henry, Elizabeth Keener',\n",
       " 'Vivian Maier, John Maloof, Daniel Arnaud, Simon Amédé',\n",
       " None,\n",
       " 'Anna Geislerová, Stanislav Majer, Jirí Cerný, Kristýna Nováková',\n",
       " 'Jowita Budnik, Zbigniew Walerys, Antoni Pawlicki, Artur Steranko',\n",
       " 'Marian Álvarez, Rosana Pastor, Manolo Solo, Andrés Gertrúdix',\n",
       " 'Euan Jardine, Steven McIntyre, Kirsty Halliday, Matthew Ellis',\n",
       " 'Penélope Cruz, Emile Hirsch, Adnan Haskovic, Saadet Aksoy',\n",
       " None,\n",
       " 'Rotem Keinan, Sharon Tal, Dov Navon, Shirli Deshe',\n",
       " 'Ben Barnes, Ralph Brown, Jason Byrne, Sam Corry',\n",
       " 'Thibault Vinçon, Dounia Sichov, Lolita Chammah, Stéphanie Daub-Laurent',\n",
       " None,\n",
       " 'Louis Koo, Chapman To, Sandra Kwan Yue Ng',\n",
       " 'Toby Kebbell, Adi Bielski, Tony Curran, Ashley Thomas',\n",
       " 'Craig Hall, Matthew Sunderland, Gina Varela, Karlos Drinkwater',\n",
       " None]"
      ]
     },
     "execution_count": 16,
     "metadata": {},
     "output_type": "execute_result"
    }
   ],
   "source": [
    "df['Actors'].tolist()"
   ]
  },
  {
   "cell_type": "code",
   "execution_count": null,
   "metadata": {},
   "outputs": [],
   "source": []
  }
 ],
 "metadata": {
  "kernelspec": {
   "display_name": "venv",
   "language": "python",
   "name": "venv"
  },
  "language_info": {
   "codemirror_mode": {
    "name": "ipython",
    "version": 3
   },
   "file_extension": ".py",
   "mimetype": "text/x-python",
   "name": "python",
   "nbconvert_exporter": "python",
   "pygments_lexer": "ipython3",
   "version": "3.7.7"
  }
 },
 "nbformat": 4,
 "nbformat_minor": 2
}
