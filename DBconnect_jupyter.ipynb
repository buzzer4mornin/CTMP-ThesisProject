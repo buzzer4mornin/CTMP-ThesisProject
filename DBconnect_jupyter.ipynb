{
 "cells": [
  {
   "cell_type": "code",
   "execution_count": 2,
   "metadata": {
    "collapsed": true
   },
   "outputs": [
    {
     "name": "stdout",
     "output_type": "stream",
     "text": [
      "Requirement already satisfied: cx_Oracle in /Users/ahmadli/PycharmProjects/deploymachinelearning/venv/lib/python3.7/site-packages (8.1.0)\n",
      "\u001b[33mWARNING: You are using pip version 20.0.2; however, version 20.3.3 is available.\n",
      "You should consider upgrading via the '/Users/ahmadli/PycharmProjects/deploymachinelearning/venv/bin/python -m pip install --upgrade pip' command.\u001b[0m\n"
     ]
    }
   ],
   "source": [
    "import sys\n",
    "!{sys.executable} -m pip install cx_Oracle \n",
    "import cx_Oracle as cx\n",
    "import pandas as pd"
   ]
  },
  {
   "cell_type": "markdown",
   "metadata": {},
   "source": [
    "### Function for getting credentials for DB connection"
   ]
  },
  {
   "cell_type": "code",
   "execution_count": 3,
   "metadata": {},
   "outputs": [],
   "source": [
    "def get_credentials() -> list:\n",
    "    c = []\n",
    "    with open('credentials.txt') as f:\n",
    "        for line in f.readlines():\n",
    "            try:\n",
    "                # fetching username and password\n",
    "                _, value = line.split(\": \")\n",
    "            except:\n",
    "                # raises error \n",
    "                print('Add your username and password in credentials file')\n",
    "                exit(0)\n",
    "            c.append(value.rstrip(\" \\n\"))\n",
    "    return c"
   ]
  },
  {
   "cell_type": "markdown",
   "metadata": {},
   "source": [
    "### Connect to DB and fetch DataFrame"
   ]
  },
  {
   "cell_type": "code",
   "execution_count": 4,
   "metadata": {},
   "outputs": [
    {
     "name": "stdout",
     "output_type": "stream",
     "text": [
      "(DESCRIPTION=(ADDRESS=(PROTOCOL=TCP)(HOST=tirpitz.ms.mff.cuni.cz)(PORT=1511))(CONNECT_DATA=(SID=jedenact)))\n",
      "Table Created successful\n"
     ]
    }
   ],
   "source": [
    "\"-*- Disconnect from VPN -*-\"\n",
    "dsnStr = cx.makedsn(\"tirpitz.ms.mff.cuni.cz\", 1511, \"jedenact\")\n",
    "print(dsnStr)\n",
    "db_credentials = get_credentials()\n",
    "\n",
    "try: \n",
    "    # Connect to DB\n",
    "    db = cx.connect(*db_credentials, dsn=dsnStr)\n",
    "    cur = db.cursor() \n",
    "    \n",
    "    # Execute Query\n",
    "    cur.execute(\"select ACTORS from IMDB WHERE ROWNUM <= 50\")\n",
    "    db.commit()\n",
    "    df = pd.DataFrame(cur.fetchall())\n",
    "    \n",
    "    # Another way to Query\n",
    "    #for row in cur.execute(\"select ACTORS from IMDB\"):\n",
    "    #    print(row)\n",
    "\n",
    "    print(\"Table Created successful\") \n",
    "\n",
    "except cx.DatabaseError as e: \n",
    "    print(\"ERROR\", e) \n",
    "\n",
    "finally: \n",
    "    if cur: cur.close() \n",
    "    if db: db.close() "
   ]
  },
  {
   "cell_type": "code",
   "execution_count": 7,
   "metadata": {},
   "outputs": [
    {
     "data": {
      "text/plain": [
       "'Chris Stuckmann, Fae Rie, Sam Liz, Trevor Lawrence'"
      ]
     },
     "execution_count": 7,
     "metadata": {},
     "output_type": "execute_result"
    }
   ],
   "source": [
    "text = df.iloc[3,0]\n",
    "text"
   ]
  },
  {
   "cell_type": "code",
   "execution_count": null,
   "metadata": {},
   "outputs": [],
   "source": []
  }
 ],
 "metadata": {
  "kernelspec": {
   "display_name": "venv",
   "language": "python",
   "name": "venv"
  },
  "language_info": {
   "codemirror_mode": {
    "name": "ipython",
    "version": 3
   },
   "file_extension": ".py",
   "mimetype": "text/x-python",
   "name": "python",
   "nbconvert_exporter": "python",
   "pygments_lexer": "ipython3",
   "version": "3.7.7"
  }
 },
 "nbformat": 4,
 "nbformat_minor": 2
}
