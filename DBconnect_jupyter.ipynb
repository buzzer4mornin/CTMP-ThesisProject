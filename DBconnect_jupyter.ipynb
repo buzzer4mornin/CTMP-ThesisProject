{
 "cells": [
  {
   "cell_type": "code",
   "execution_count": 2,
   "metadata": {},
   "outputs": [
    {
     "name": "stdout",
     "output_type": "stream",
     "text": [
      "Requirement already satisfied: cx_Oracle in /Users/ahmadli/PycharmProjects/deploymachinelearning/venv/lib/python3.7/site-packages (8.1.0)\n",
      "\u001b[33mWARNING: You are using pip version 20.0.2; however, version 20.3.3 is available.\n",
      "You should consider upgrading via the '/Users/ahmadli/PycharmProjects/deploymachinelearning/venv/bin/python -m pip install --upgrade pip' command.\u001b[0m\n"
     ]
    }
   ],
   "source": [
    "import sys\n",
    "!{sys.executable} -m pip install cx_Oracle \n",
    "import cx_Oracle as cx\n",
    "import pandas as pd"
   ]
  },
  {
   "cell_type": "code",
   "execution_count": 12,
   "metadata": {},
   "outputs": [
    {
     "name": "stdout",
     "output_type": "stream",
     "text": [
      "(DESCRIPTION=(ADDRESS=(PROTOCOL=TCP)(HOST=tirpitz.ms.mff.cuni.cz)(PORT=1511))(CONNECT_DATA=(SID=jedenact)))\n",
      "Table Created successful\n"
     ]
    }
   ],
   "source": [
    "\"-*- Disconnect from VPN -*-\"\n",
    "\n",
    "dsnStr = cx.makedsn(\"tirpitz.ms.mff.cuni.cz\", 1511, \"jedenact\")\n",
    "print(dsnStr)\n",
    "\n",
    "try: \n",
    "    db = cx.connect(user=\"ahmadli\", password=\"aydin206\", dsn=dsnStr)\n",
    "    cur = db.cursor() \n",
    "    \n",
    "    cur.execute(\"select ACTORS from IMDB WHERE ROWNUM <= 50\")\n",
    "    db.commit()\n",
    "    df = pd.DataFrame(cur.fetchall())\n",
    "    print(\"Table Created successful\") \n",
    "\n",
    "except cx.DatabaseError as e: \n",
    "    print(\"ERROR\", e) \n",
    "\n",
    "finally: \n",
    "    if cur: cur.close() \n",
    "    if db: db.close() "
   ]
  },
  {
   "cell_type": "code",
   "execution_count": 28,
   "metadata": {},
   "outputs": [
    {
     "name": "stdout",
     "output_type": "stream",
     "text": [
      "<class 'str'>\n"
     ]
    },
    {
     "data": {
      "text/plain": [
       "'Chris Stuckmann, Fae Rie, Sam Liz, Trevor Lawrence'"
      ]
     },
     "execution_count": 28,
     "metadata": {},
     "output_type": "execute_result"
    }
   ],
   "source": [
    "text = df.iloc[3,0]\n",
    "print(type(text))\n",
    "text"
   ]
  },
  {
   "cell_type": "code",
   "execution_count": null,
   "metadata": {},
   "outputs": [],
   "source": []
  },
  {
   "cell_type": "code",
   "execution_count": null,
   "metadata": {},
   "outputs": [],
   "source": []
  }
 ],
 "metadata": {
  "kernelspec": {
   "display_name": "venv",
   "language": "python",
   "name": "venv"
  },
  "language_info": {
   "codemirror_mode": {
    "name": "ipython",
    "version": 3
   },
   "file_extension": ".py",
   "mimetype": "text/x-python",
   "name": "python",
   "nbconvert_exporter": "python",
   "pygments_lexer": "ipython3",
   "version": "3.7.7"
  }
 },
 "nbformat": 4,
 "nbformat_minor": 2
}
